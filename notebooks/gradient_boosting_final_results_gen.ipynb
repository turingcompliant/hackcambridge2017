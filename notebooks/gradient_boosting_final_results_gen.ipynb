{
 "cells": [
  {
   "cell_type": "code",
   "execution_count": 2,
   "metadata": {
    "collapsed": false
   },
   "outputs": [],
   "source": [
    "import numpy as np\n",
    "from collections import defaultdict\n",
    "%matplotlib inline\n",
    "import matplotlib.pyplot as plt\n",
    "import pandas as pd\n",
    "import seaborn as sns\n",
    "from me388 import QuantumBlackPCA\n",
    "from feature_scaling import scale_features\n",
    "from sklearn.model_selection import train_test_split\n",
    "from bayes import bayes_output\n",
    "from sklearn.ensemble import RandomForestClassifier, ExtraTreesClassifier, GradientBoostingClassifier"
   ]
  },
  {
   "cell_type": "markdown",
   "metadata": {},
   "source": [
    "## GRADIENT BOOSTING"
   ]
  },
  {
   "cell_type": "code",
   "execution_count": null,
   "metadata": {
    "collapsed": false
   },
   "outputs": [],
   "source": [
    "data = pd.DataFrame.from_csv('../DataFiles/train_withNaNinfo.csv')\n",
    "data = data.fillna(data.mean())\n",
    "cols = [col for col in data.columns if col != 'class'] \n",
    "features = data[cols]\n",
    "bankrupt = data['class']\n",
    "# feature_train, feature_test, class_train, class_test = train_test_split(\n",
    "#     features, bankrupt, test_size=0.2, random_state=1)\n",
    "\n",
    "forest = GradientBoostingClassifier(n_estimators=1000, learning_rate=0.5, loss='deviance')\n",
    "forest = forest.fit(features, bankrupt)"
   ]
  },
  {
   "cell_type": "code",
   "execution_count": 13,
   "metadata": {
    "collapsed": false
   },
   "outputs": [],
   "source": [
    "testdata = pd.DataFrame.from_csv('../DataFiles/test_withNaNinfo.csv')\n",
    "testdata =testdata.fillna(testdata.mean())\n",
    "output = forest.predict(testdata)"
   ]
  },
  {
   "cell_type": "code",
   "execution_count": 15,
   "metadata": {
    "collapsed": false
   },
   "outputs": [],
   "source": [
    "np.savetxt('output.txt', output.astype(int))"
   ]
  }
 ],
 "metadata": {
  "anaconda-cloud": {},
  "kernelspec": {
   "display_name": "Python [conda root]",
   "language": "python",
   "name": "conda-root-py"
  },
  "language_info": {
   "codemirror_mode": {
    "name": "ipython",
    "version": 3
   },
   "file_extension": ".py",
   "mimetype": "text/x-python",
   "name": "python",
   "nbconvert_exporter": "python",
   "pygments_lexer": "ipython3",
   "version": "3.5.2"
  }
 },
 "nbformat": 4,
 "nbformat_minor": 1
}
