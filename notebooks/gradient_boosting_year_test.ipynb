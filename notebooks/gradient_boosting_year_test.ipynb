{
 "cells": [
  {
   "cell_type": "code",
   "execution_count": 1,
   "metadata": {
    "collapsed": false
   },
   "outputs": [],
   "source": [
    "import numpy as np\n",
    "from collections import defaultdict\n",
    "%matplotlib inline\n",
    "import matplotlib.pyplot as plt\n",
    "import pandas as pd\n",
    "import seaborn as sns\n",
    "from me388 import QuantumBlackPCA\n",
    "from feature_scaling import scale_features\n",
    "from sklearn.model_selection import train_test_split\n",
    "from bayes import bayes_output\n",
    "from sklearn.ensemble import RandomForestClassifier, ExtraTreesClassifier, GradientBoostingClassifier"
   ]
  },
  {
   "cell_type": "markdown",
   "metadata": {},
   "source": [
    "## GRADIENT BOOSTING"
   ]
  },
  {
   "cell_type": "code",
   "execution_count": 6,
   "metadata": {
    "collapsed": false
   },
   "outputs": [
    {
     "name": "stdout",
     "output_type": "stream",
     "text": [
      "sum:  6946\n",
      "true positives:  193\n",
      "true negatives:  6554\n",
      "false positives:  67\n",
      "false negatives:  132\n",
      "ratio pos/neg:  0.5075757575757576\n",
      "test ratio pos/neg:  0.0490862407491\n",
      "bs score 0.971350417506\n"
     ]
    }
   ],
   "source": [
    "data = pd.DataFrame.from_csv('../DataFiles/train_withNaNinfo.csvu')\n",
    "data = data.fillna(data.mean())\n",
    "cols = [col for col in data.columns if col != 'class'] \n",
    "features = data[cols]\n",
    "bankrupt = data['class']\n",
    "feature_train, feature_test, class_train, class_test = train_test_split(\n",
    "    features, bankrupt, test_size=0.2, random_state=1)\n",
    "\n",
    "forest = GradientBoostingClassifier(n_estimators=1000, learning_rate=0.5, loss='deviance')\n",
    "forest = forest.fit(feature_train, class_train)\n",
    "output = forest.predict(feature_test)\n",
    "score = forest.score(feature_test, class_test)\n",
    "\n",
    "bayes_output(output, score, class_test)"
   ]
  },
  {
   "cell_type": "code",
   "execution_count": 88,
   "metadata": {
    "collapsed": false
   },
   "outputs": [],
   "source": [
    "true_positives = np.where(np.logical_and(class_test, output))\n",
    "false_negatives = np.where(class_test > output)\n",
    "positives = np.where(class_test)"
   ]
  },
  {
   "cell_type": "code",
   "execution_count": 93,
   "metadata": {
    "collapsed": false
   },
   "outputs": [
    {
     "data": {
      "text/plain": [
       "132"
      ]
     },
     "execution_count": 93,
     "metadata": {},
     "output_type": "execute_result"
    }
   ],
   "source": [
    "len(false_negatives[0])"
   ]
  },
  {
   "cell_type": "code",
   "execution_count": 48,
   "metadata": {
    "collapsed": false
   },
   "outputs": [
    {
     "data": {
      "text/plain": [
       "0"
      ]
     },
     "execution_count": 48,
     "metadata": {},
     "output_type": "execute_result"
    }
   ],
   "source": [
    "class_test[33876]"
   ]
  },
  {
   "cell_type": "code",
   "execution_count": 94,
   "metadata": {
    "collapsed": false
   },
   "outputs": [],
   "source": [
    "pos_years = [feature_test[\"year\"].iloc[pos] for pos in positives]"
   ]
  },
  {
   "cell_type": "code",
   "execution_count": 95,
   "metadata": {
    "collapsed": false
   },
   "outputs": [],
   "source": [
    "false_neg_years = [feature_test[\"year\"].iloc[pos] for pos in false_negatives]\n",
    "true_pos_years = [feature_test[\"year\"].iloc[pos] for pos in true_positives]"
   ]
  },
  {
   "cell_type": "code",
   "execution_count": 97,
   "metadata": {
    "collapsed": false
   },
   "outputs": [
    {
     "data": {
      "text/plain": [
       "<matplotlib.text.Text at 0x7f79f1b2b6a0>"
      ]
     },
     "execution_count": 97,
     "metadata": {},
     "output_type": "execute_result"
    },
    {
     "data": {
      "image/png": "[encoded data removed]",
      "text/plain": [
       "<matplotlib.figure.Figure at 0x7f79f1c04390>"
      ]
     },
     "metadata": {},
     "output_type": "display_data"
    }
   ],
   "source": [
    "plt.hist(pos_years, bins=5, alpha=0.5)\n",
    "plt.hist(true_pos_years, bins=5, alpha=0.5, color='g')\n",
    "plt.hist(false_neg_years, bins=5, alpha=0.5, color='r')\n",
    "plt.xlabel('year of forecast')\n",
    "plt.ylabel('frequency')"
   ]
  }
 ],
 "metadata": {
  "anaconda-cloud": {},
  "kernelspec": {
   "display_name": "Python [conda root]",
   "language": "python",
   "name": "conda-root-py"
  },
  "language_info": {
   "codemirror_mode": {
    "name": "ipython",
    "version": 3
   },
   "file_extension": ".py",
   "mimetype": "text/x-python",
   "name": "python",
   "nbconvert_exporter": "python",
   "pygments_lexer": "ipython3",
   "version": "3.5.2"
  },
  "widgets": {
   "state": {},
   "version": "1.1.2"
  }
 },
 "nbformat": 4,
 "nbformat_minor": 1
}
