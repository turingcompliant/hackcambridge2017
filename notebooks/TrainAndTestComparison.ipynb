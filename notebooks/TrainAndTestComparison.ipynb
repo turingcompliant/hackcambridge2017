{
 "cells": [
  {
   "cell_type": "code",
   "execution_count": 43,
   "metadata": {
    "collapsed": false
   },
   "outputs": [
    {
     "data": {
      "text/html": [
       "\n",
       "    <div class=\"bk-root\">\n",
       "        <a href=\"http://bokeh.pydata.org\" target=\"_blank\" class=\"bk-logo bk-logo-small bk-logo-notebook\"></a>\n",
       "        <span id=\"1a97be9e-ebec-47a8-9614-6f04ce996b7f\">Loading BokehJS ...</span>\n",
       "    </div>"
      ]
     },
     "metadata": {},
     "output_type": "display_data"
    },
    {
     "data": {
      "application/javascript": [
       "\n",
       "(function(global) {\n",
       "  function now() {\n",
       "    return new Date();\n",
       "  }\n",
       "\n",
       "  var force = \"1\";\n",
       "\n",
       "  if (typeof (window._bokeh_onload_callbacks) === \"undefined\" || force !== \"\") {\n",
       "    window._bokeh_onload_callbacks = [];\n",
       "    window._bokeh_is_loading = undefined;\n",
       "  }\n",
       "\n",
       "\n",
       "  \n",
       "  if (typeof (window._bokeh_timeout) === \"undefined\" || force !== \"\") {\n",
       "    window._bokeh_timeout = Date.now() + 5000;\n",
       "    window._bokeh_failed_load = false;\n",
       "  }\n",
       "\n",
       "  var NB_LOAD_WARNING = {'data': {'text/html':\n",
       "     \"<div style='background-color: #fdd'>\\n\"+\n",
       "     \"<p>\\n\"+\n",
       "     \"BokehJS does not appear to have successfully loaded. If loading BokehJS from CDN, this \\n\"+\n",
       "     \"may be due to a slow or bad network connection. Possible fixes:\\n\"+\n",
       "     \"</p>\\n\"+\n",
       "     \"<ul>\\n\"+\n",
       "     \"<li>re-rerun `output_notebook()` to attempt to load from CDN again, or</li>\\n\"+\n",
       "     \"<li>use INLINE resources instead, as so:</li>\\n\"+\n",
       "     \"</ul>\\n\"+\n",
       "     \"<code>\\n\"+\n",
       "     \"from bokeh.resources import INLINE\\n\"+\n",
       "     \"output_notebook(resources=INLINE)\\n\"+\n",
       "     \"</code>\\n\"+\n",
       "     \"</div>\"}};\n",
       "\n",
       "  function display_loaded() {\n",
       "    if (window.Bokeh !== undefined) {\n",
       "      Bokeh.$(\"#1a97be9e-ebec-47a8-9614-6f04ce996b7f\").text(\"BokehJS successfully loaded.\");\n",
       "    } else if (Date.now() < window._bokeh_timeout) {\n",
       "      setTimeout(display_loaded, 100)\n",
       "    }\n",
       "  }\n",
       "\n",
       "  function run_callbacks() {\n",
       "    window._bokeh_onload_callbacks.forEach(function(callback) { callback() });\n",
       "    delete window._bokeh_onload_callbacks\n",
       "    console.info(\"Bokeh: all callbacks have finished\");\n",
       "  }\n",
       "\n",
       "  function load_libs(js_urls, callback) {\n",
       "    window._bokeh_onload_callbacks.push(callback);\n",
       "    if (window._bokeh_is_loading > 0) {\n",
       "      console.log(\"Bokeh: BokehJS is being loaded, scheduling callback at\", now());\n",
       "      return null;\n",
       "    }\n",
       "    if (js_urls == null || js_urls.length === 0) {\n",
       "      run_callbacks();\n",
       "      return null;\n",
       "    }\n",
       "    console.log(\"Bokeh: BokehJS not loaded, scheduling load and callback at\", now());\n",
       "    window._bokeh_is_loading = js_urls.length;\n",
       "    for (var i = 0; i < js_urls.length; i++) {\n",
       "      var url = js_urls[i];\n",
       "      var s = document.createElement('script');\n",
       "      s.src = url;\n",
       "      s.async = false;\n",
       "      s.onreadystatechange = s.onload = function() {\n",
       "        window._bokeh_is_loading--;\n",
       "        if (window._bokeh_is_loading === 0) {\n",
       "          console.log(\"Bokeh: all BokehJS libraries loaded\");\n",
       "          run_callbacks()\n",
       "        }\n",
       "      };\n",
       "      s.onerror = function() {\n",
       "        console.warn(\"failed to load library \" + url);\n",
       "      };\n",
       "      console.log(\"Bokeh: injecting script tag for BokehJS library: \", url);\n",
       "      document.getElementsByTagName(\"head\")[0].appendChild(s);\n",
       "    }\n",
       "  };var element = document.getElementById(\"1a97be9e-ebec-47a8-9614-6f04ce996b7f\");\n",
       "  if (element == null) {\n",
       "    console.log(\"Bokeh: ERROR: autoload.js configured with elementid '1a97be9e-ebec-47a8-9614-6f04ce996b7f' but no matching script tag was found. \")\n",
       "    return false;\n",
       "  }\n",
       "\n",
       "  var js_urls = ['https://cdn.pydata.org/bokeh/release/bokeh-0.12.2.min.js', 'https://cdn.pydata.org/bokeh/release/bokeh-widgets-0.12.2.min.js', 'https://cdn.pydata.org/bokeh/release/bokeh-compiler-0.12.2.min.js'];\n",
       "\n",
       "  var inline_js = [\n",
       "    function(Bokeh) {\n",
       "      Bokeh.set_log_level(\"info\");\n",
       "    },\n",
       "    \n",
       "    function(Bokeh) {\n",
       "      \n",
       "      Bokeh.$(\"#1a97be9e-ebec-47a8-9614-6f04ce996b7f\").text(\"BokehJS is loading...\");\n",
       "    },\n",
       "    function(Bokeh) {\n",
       "      console.log(\"Bokeh: injecting CSS: https://cdn.pydata.org/bokeh/release/bokeh-0.12.2.min.css\");\n",
       "      Bokeh.embed.inject_css(\"https://cdn.pydata.org/bokeh/release/bokeh-0.12.2.min.css\");\n",
       "      console.log(\"Bokeh: injecting CSS: https://cdn.pydata.org/bokeh/release/bokeh-widgets-0.12.2.min.css\");\n",
       "      Bokeh.embed.inject_css(\"https://cdn.pydata.org/bokeh/release/bokeh-widgets-0.12.2.min.css\");\n",
       "    }\n",
       "  ];\n",
       "\n",
       "  function run_inline_js() {\n",
       "    \n",
       "    if ((window.Bokeh !== undefined) || (force === \"1\")) {\n",
       "      for (var i = 0; i < inline_js.length; i++) {\n",
       "        inline_js[i](window.Bokeh);\n",
       "      }if (force === \"1\") {\n",
       "        display_loaded();\n",
       "      }} else if (Date.now() < window._bokeh_timeout) {\n",
       "      setTimeout(run_inline_js, 100);\n",
       "    } else if (!window._bokeh_failed_load) {\n",
       "      console.log(\"Bokeh: BokehJS failed to load within specified timeout.\");\n",
       "      window._bokeh_failed_load = true;\n",
       "    } else if (!force) {\n",
       "      var cell = $(\"#1a97be9e-ebec-47a8-9614-6f04ce996b7f\").parents('.cell').data().cell;\n",
       "      cell.output_area.append_execute_result(NB_LOAD_WARNING)\n",
       "    }\n",
       "\n",
       "  }\n",
       "\n",
       "  if (window._bokeh_is_loading === 0) {\n",
       "    console.log(\"Bokeh: BokehJS loaded, going straight to plotting\");\n",
       "    run_inline_js();\n",
       "  } else {\n",
       "    load_libs(js_urls, function() {\n",
       "      console.log(\"Bokeh: BokehJS plotting callback run at\", now());\n",
       "      run_inline_js();\n",
       "    });\n",
       "  }\n",
       "}(this));"
      ]
     },
     "metadata": {},
     "output_type": "display_data"
    }
   ],
   "source": [
    "import sklearn\n",
    "import pandas as pd\n",
    "import numpy as np\n",
    "%matplotlib inline\n",
    "import matplotlib.pyplot as plt\n",
    "from bokeh.charts import Scatter\n",
    "import seaborn as sns\n",
    "from bokeh.io import output_notebook\n",
    "output_notebook()\n",
    "from feature_scaling import scale_features"
   ]
  },
  {
   "cell_type": "code",
   "execution_count": 44,
   "metadata": {
    "collapsed": false
   },
   "outputs": [],
   "source": [
    "train = pd.DataFrame.from_csv('../DataFiles/train.csv').drop(\"class\",axis=1)\n",
    "test = pd.DataFrame.from_csv('../DataFiles/test.csv').drop(\"class\",axis=1)"
   ]
  },
  {
   "cell_type": "code",
   "execution_count": 45,
   "metadata": {
    "collapsed": false
   },
   "outputs": [],
   "source": [
    "if(test.columns.all() != train.columns.all()):\n",
    "   exit(0)\n",
    "cols = train.columns"
   ]
  },
  {
   "cell_type": "code",
   "execution_count": 46,
   "metadata": {
    "collapsed": false,
    "scrolled": true
   },
   "outputs": [
    {
     "data": {
      "text/plain": [
       "array([[  2.64827021e-02,   5.83562825e-01,   1.25766792e-01,\n",
       "          1.03656646e+00,   9.26648299e-01,   8.51715478e-02,\n",
       "          2.07940265e+03,   1.24526963e+00,   1.51610871e+01,\n",
       "          9.00726990e-02,   2.25734845e-01,   5.89359705e-01,\n",
       "          2.85882970e+02,   4.55951081e+00,   1.14391255e-01,\n",
       "          2.06239675e-01,   2.70717150e-01,   3.69515150e-01,\n",
       "          1.10195851e+00,   1.10668199e+03,   6.28110558e+00,\n",
       "          4.00288308e+00,   1.12987587e-01,   8.66686096e+00,\n",
       "          2.45271880e-01,   1.03728175e+03,   8.75310953e+00,\n",
       "          5.41621343e+00,   1.20564080e-01,   2.91314601e+00,\n",
       "          1.04502181e+02,   6.80693165e-01,  -1.18319968e-01,\n",
       "          6.73052495e+00,   2.07788069e+00,   9.39904509e+00,\n",
       "         -1.30198200e-01,   1.28125576e+03,   9.95378562e+02,\n",
       "          1.01505946e+01,   5.82188012e+00,   3.64369600e+02,\n",
       "          3.09304516e-02,  -5.16453161e-01,  -3.61717567e+02,\n",
       "          6.32201939e+00,   4.86144038e-01,   7.17913381e+00,\n",
       "          2.37732438e+01,   2.45721717e+01,   7.83888681e+03,\n",
       "         -3.23777194e+01,  -6.35308954e-02,   3.69918664e+01,\n",
       "          1.44027120e+00,  -6.71596000e-02,   4.92676124e+02,\n",
       "          1.80392191e+01,   1.76943524e+03,   9.54723163e+00,\n",
       "          7.38308710e+01,   8.51618225e-02,   1.39818115e+01,\n",
       "          2.65761179e+00,   2.93972816e+00],\n",
       "       [  6.98744970e-02,   8.00122576e-01,   1.52304043e-01,\n",
       "          1.51628425e+00,   3.41017750e-01,   1.26765386e-01,\n",
       "          1.64194976e+03,   2.07542536e+00,   8.36267624e+00,\n",
       "          1.32542201e-01,  -1.21612814e-01,   5.93619924e-01,\n",
       "          7.15330504e+01,   1.17423127e+00,   1.12048485e-01,\n",
       "         -1.32113696e-01,   2.67196959e-01,   4.86178486e-01,\n",
       "          1.91213876e+00,   1.11276722e+03,   4.89233403e+00,\n",
       "          4.01356910e+00,   1.20204462e-01,   2.18546307e+00,\n",
       "         -9.69174762e-02,   1.66364145e+03,   8.16715560e+00,\n",
       "          5.39232095e+00,   7.72763024e-02,   2.90362067e+00,\n",
       "          1.07372370e+02,   8.99047274e-01,  -9.72386989e-01,\n",
       "          4.64968046e+00,   2.42582194e+00,   9.99543650e-01,\n",
       "         -1.91790405e-01,   2.45409714e+02,   1.73876574e+02,\n",
       "          3.34735196e+01,   3.85517344e+00,   3.31736024e+02,\n",
       "          1.91949484e-02,  -3.47074311e-01,  -4.79838199e+02,\n",
       "          3.88676274e+00,   4.73028080e-01,   3.67624955e+00,\n",
       "          2.37701440e+01,   2.49846013e+01,   7.00521774e+03,\n",
       "         -1.58140247e+00,   2.01651763e-01,   2.16395060e+00,\n",
       "          9.05196271e-01,  -1.18887442e-02,   2.70220725e+02,\n",
       "          1.30093677e+01,   4.33651292e+02,   8.52559427e+00,\n",
       "          6.86221665e+01,   1.26749937e-01,   7.27106949e+00,\n",
       "          2.63037598e+00,   2.93985482e+00]])"
      ]
     },
     "execution_count": 46,
     "metadata": {},
     "output_type": "execute_result"
    }
   ],
   "source": [
    "means = np.array(train[cols].mean())\n",
    "means = np.append(means, np.array(test[cols].mean()))\n",
    "means = np.reshape(means,(2,65))\n",
    "means"
   ]
  },
  {
   "cell_type": "code",
   "execution_count": 47,
   "metadata": {
    "collapsed": false
   },
   "outputs": [
    {
     "data": {
      "text/plain": [
       "2.9397281575764556"
      ]
     },
     "execution_count": 47,
     "metadata": {},
     "output_type": "execute_result"
    }
   ],
   "source": [
    "train[\"year\"].mean()"
   ]
  },
  {
   "cell_type": "code",
   "execution_count": 48,
   "metadata": {
    "collapsed": false
   },
   "outputs": [
    {
     "data": {
      "text/plain": [
       "2.9398548219840994"
      ]
     },
     "execution_count": 48,
     "metadata": {},
     "output_type": "execute_result"
    }
   ],
   "source": [
    "test[\"year\"].mean()"
   ]
  },
  {
   "cell_type": "code",
   "execution_count": 49,
   "metadata": {
    "collapsed": false
   },
   "outputs": [
    {
     "data": {
      "text/plain": [
       "array([ 0,  1,  2,  3,  4,  5,  6,  7,  8,  9, 10, 11, 12, 13, 14, 15, 16,\n",
       "       17, 18, 19, 20, 21, 22, 23, 24, 25, 26, 27, 28, 29, 30, 31, 32, 33,\n",
       "       34, 35, 36, 37, 38, 39, 40, 41, 42, 43, 44, 45, 46, 47, 48, 49, 50,\n",
       "       51, 52, 53, 54, 55, 56, 57, 58, 59, 60, 61, 62, 63, 64])"
      ]
     },
     "execution_count": 49,
     "metadata": {},
     "output_type": "execute_result"
    }
   ],
   "source": [
    "np.array(range(65))"
   ]
  },
  {
   "cell_type": "code",
   "execution_count": 50,
   "metadata": {
    "collapsed": false,
    "scrolled": true
   },
   "outputs": [
    {
     "data": {
      "text/plain": [
       "array([  2.64827021e-02,   5.83562825e-01,   1.25766792e-01,\n",
       "         1.03656646e+00,   9.26648299e-01,   8.51715478e-02,\n",
       "         2.07940265e+03,   1.24526963e+00,   1.51610871e+01,\n",
       "         9.00726990e-02,   2.25734845e-01,   5.89359705e-01,\n",
       "         2.85882970e+02,   4.55951081e+00,   1.14391255e-01,\n",
       "         2.06239675e-01,   2.70717150e-01,   3.69515150e-01,\n",
       "         1.10195851e+00,   1.10668199e+03,   6.28110558e+00,\n",
       "         4.00288308e+00,   1.12987587e-01,   8.66686096e+00,\n",
       "         2.45271880e-01,   1.03728175e+03,   8.75310953e+00,\n",
       "         5.41621343e+00,   1.20564080e-01,   2.91314601e+00,\n",
       "         1.04502181e+02,   6.80693165e-01,  -1.18319968e-01,\n",
       "         6.73052495e+00,   2.07788069e+00,   9.39904509e+00,\n",
       "        -1.30198200e-01,   1.28125576e+03,   9.95378562e+02,\n",
       "         1.01505946e+01,   5.82188012e+00,   3.64369600e+02,\n",
       "         3.09304516e-02,  -5.16453161e-01,  -3.61717567e+02,\n",
       "         6.32201939e+00,   4.86144038e-01,   7.17913381e+00,\n",
       "         2.37732438e+01,   2.45721717e+01,   7.83888681e+03,\n",
       "        -3.23777194e+01,  -6.35308954e-02,   3.69918664e+01,\n",
       "         1.44027120e+00,  -6.71596000e-02,   4.92676124e+02,\n",
       "         1.80392191e+01,   1.76943524e+03,   9.54723163e+00,\n",
       "         7.38308710e+01,   8.51618225e-02,   1.39818115e+01,\n",
       "         2.65761179e+00,   2.93972816e+00])"
      ]
     },
     "execution_count": 50,
     "metadata": {},
     "output_type": "execute_result"
    }
   ],
   "source": [
    "means[0,:]"
   ]
  },
  {
   "cell_type": "code",
   "execution_count": 51,
   "metadata": {
    "collapsed": false
   },
   "outputs": [],
   "source": [
    "x = np.array(range(65))\n",
    "y = means[0,:]\n",
    "y1 = means[1,:]"
   ]
  },
  {
   "cell_type": "code",
   "execution_count": 52,
   "metadata": {
    "collapsed": true
   },
   "outputs": [],
   "source": [
    "x = np.log(x)\n",
    "y = np.log(y)\n",
    "y1 = np.log(y1)"
   ]
  },
  {
   "cell_type": "code",
   "execution_count": 53,
   "metadata": {
    "collapsed": false
   },
   "outputs": [
    {
     "data": {
      "text/plain": [
       "[<matplotlib.lines.Line2D at 0x7fa3989f6dd8>]"
      ]
     },
     "execution_count": 53,
     "metadata": {},
     "output_type": "execute_result"
    },
    {
     "data": {
      "image/png": "[encoded data removed]",
      "text/plain": [
       "<matplotlib.figure.Figure at 0x7fa3989f6d68>"
      ]
     },
     "metadata": {},
     "output_type": "display_data"
    }
   ],
   "source": [
    "plt.plot(x, y, 'b')\n",
    "plt.plot(x, y1, 'r')"
   ]
  }
 ],
 "metadata": {
  "anaconda-cloud": {},
  "kernelspec": {
   "display_name": "Python [conda root]",
   "language": "python",
   "name": "conda-root-py"
  },
  "language_info": {
   "codemirror_mode": {
    "name": "ipython",
    "version": 3
   },
   "file_extension": ".py",
   "mimetype": "text/x-python",
   "name": "python",
   "nbconvert_exporter": "python",
   "pygments_lexer": "ipython3",
   "version": "3.5.2"
  }
 },
 "nbformat": 4,
 "nbformat_minor": 1
}
