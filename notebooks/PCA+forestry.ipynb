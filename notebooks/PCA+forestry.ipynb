{
 "cells": [
  {
   "cell_type": "code",
   "execution_count": 84,
   "metadata": {
    "collapsed": false
   },
   "outputs": [],
   "source": [
    "import numpy as np\n",
    "from collections import defaultdict\n",
    "%matplotlib inline\n",
    "import matplotlib.pyplot as plt\n",
    "import pandas as pd\n",
    "import seaborn as sns\n",
    "from me388 import QuantumBlackPCA\n",
    "from feature_scaling import scale_features\n",
    "from sklearn.model_selection import train_test_split\n",
    "from bayes import bayes_output\n",
    "from sklearn.ensemble import RandomForestClassifier, ExtraTreesClassifier, GradientBoostingClassifier"
   ]
  },
  {
   "cell_type": "markdown",
   "metadata": {},
   "source": [
    "## NO FILTER, MEANS AND NO PCA"
   ]
  },
  {
   "cell_type": "code",
   "execution_count": 96,
   "metadata": {
    "collapsed": false
   },
   "outputs": [
    {
     "name": "stdout",
     "output_type": "stream",
     "text": [
      "sum:  6946\n",
      "true positives:  0\n",
      "true negatives:  6620\n",
      "false positives:  1\n",
      "false negatives:  325\n",
      "ratio pos/neg:  0.003076923076923077\n",
      "test ratio pos/neg:  0.0490862407491\n",
      "bs score 0.953066513101\n"
     ]
    }
   ],
   "source": [
    "data = pd.DataFrame.from_csv('../DataFiles/train.csv')\n",
    "data = data.fillna(data.mean())\n",
    "cols = [col for col in data.columns if col != 'class'] \n",
    "features = data[cols]\n",
    "bankrupt = data['class']\n",
    "feature_train, feature_test, class_train, class_test = train_test_split(\n",
    "    features, bankrupt, test_size=0.2, random_state=1)\n",
    "\n",
    "forest = RandomForestClassifier(n_estimators=1000, class_weight={0:0.9, 1:0.1}, max_depth=5, n_jobs=6)\n",
    "forest = forest.fit(feature_train, class_train)\n",
    "output = forest.predict(feature_test)\n",
    "score = forest.score(feature_test, class_test)\n",
    "\n",
    "bayes_output(output, score, class_test)"
   ]
  },
  {
   "cell_type": "markdown",
   "metadata": {},
   "source": [
    "## NO FILTER, MEANS, NORMALIZED AND NO PCA"
   ]
  },
  {
   "cell_type": "code",
   "execution_count": 33,
   "metadata": {
    "collapsed": false
   },
   "outputs": [
    {
     "name": "stdout",
     "output_type": "stream",
     "text": [
      "0.952089557611\n"
     ]
    }
   ],
   "source": [
    "data = pd.DataFrame.from_csv('../DataFiles/train.csv')\n",
    "data = data.fillna(data.mean())\n",
    "cols = [col for col in data.columns if col != 'class'] \n",
    "features = data[cols]\n",
    "bankrupt = data['class']\n",
    "feature_train, feature_test, class_train, class_test = train_test_split(\n",
    "    features, bankrupt, test_size=0.8, random_state=1)\n",
    "\n",
    "feature_train = scale_features(np.asarray(feature_train))\n",
    "feature_test = scale_features(np.asarray(feature_test))\n",
    "forest = RandomForestClassifier(n_estimators=100, n_jobs=6)\n",
    "forest = forest.fit(feature_train, class_train)\n",
    "output = forest.predict(feature_test)\n",
    "score = forest.score(feature_test, class_test)\n",
    "print(score)"
   ]
  },
  {
   "cell_type": "markdown",
   "metadata": {},
   "source": [
    "## NO FILTER, MEANS, NaN FEATURES, NORMALIZED AND NO PCA"
   ]
  },
  {
   "cell_type": "code",
   "execution_count": 97,
   "metadata": {
    "collapsed": false
   },
   "outputs": [
    {
     "name": "stdout",
     "output_type": "stream",
     "text": [
      "sum:  6946\n",
      "true positives:  0\n",
      "true negatives:  6621\n",
      "false positives:  0\n",
      "false negatives:  325\n",
      "ratio pos/neg:  0.0\n",
      "test ratio pos/neg:  0.0490862407491\n",
      "bs score 0.953210480852\n"
     ]
    }
   ],
   "source": [
    "data = pd.DataFrame.from_csv('../DataFiles/train_withNaNinfo.csv')\n",
    "data = data.fillna(data.mean())\n",
    "cols = [col for col in data.columns if col != 'class'] \n",
    "features = data[cols]\n",
    "bankrupt = data['class']\n",
    "feature_train, feature_test, class_train, class_test = train_test_split(\n",
    "    features, bankrupt, test_size=0.2, random_state=1)\n",
    "\n",
    "forest = RandomForestClassifier(n_estimators=100, n_jobs=6, class_weight={0:0.9, 1:0.1}, max_depth=3)\n",
    "forest = forest.fit(feature_train, class_train)\n",
    "output = forest.predict(feature_test)\n",
    "score = forest.score(feature_test, class_test)\n",
    "\n",
    "bayes_output(output, score, class_test)"
   ]
  },
  {
   "cell_type": "code",
   "execution_count": 83,
   "metadata": {
    "collapsed": false
   },
   "outputs": [
    {
     "name": "stdout",
     "output_type": "stream",
     "text": [
      "sum:  6946\n",
      "true positives:  118\n",
      "true negatives:  6590\n",
      "false positives:  31\n",
      "false negatives:  207\n",
      "ratio pos/neg:  0.1497584541062802\n",
      "test ratio pos/neg:  0.0490862407491\n",
      "bs score 0.965735675209\n"
     ]
    }
   ],
   "source": [
    "data = pd.DataFrame.from_csv('../DataFiles/train_withNaNinfo.csv')\n",
    "data = data.fillna(data.mean())\n",
    "cols = [col for col in data.columns if col != 'class'] \n",
    "features = data[cols]\n",
    "bankrupt = data['class']\n",
    "feature_train, feature_test, class_train, class_test = train_test_split(\n",
    "    features, bankrupt, test_size=0.2, random_state=1)\n",
    "\n",
    "forest = ExtraTreesClassifier(n_estimators=100, n_jobs=6, class_weight={0:0.9, 1:0.1})\n",
    "forest = forest.fit(feature_train, class_train)\n",
    "output = forest.predict(feature_test)\n",
    "score = forest.score(feature_test, class_test)\n",
    "\n",
    "bayes_output(output, score, class_test)"
   ]
  },
  {
   "cell_type": "code",
   "execution_count": 93,
   "metadata": {
    "collapsed": false
   },
   "outputs": [
    {
     "name": "stdout",
     "output_type": "stream",
     "text": [
      "sum:  6946\n",
      "true positives:  195\n",
      "true negatives:  6562\n",
      "false positives:  59\n",
      "false negatives:  130\n",
      "ratio pos/neg:  0.45384615384615384\n",
      "test ratio pos/neg:  0.0490862407491\n",
      "bs score 0.972790095019\n"
     ]
    }
   ],
   "source": [
    "data = pd.DataFrame.from_csv('../DataFiles/train_withNaN27.csv')\n",
    "data = data.fillna(data.mean())\n",
    "cols = [col for col in data.columns if col != 'class'] \n",
    "features = data[cols]\n",
    "bankrupt = data['class']\n",
    "feature_train, feature_test, class_train, class_test = train_test_split(\n",
    "    features, bankrupt, test_size=0.2, random_state=1)\n",
    "\n",
    "forest = GradientBoostingClassifier(n_estimators=100000, learning_rate=0.5)\n",
    "forest = forest.fit(feature_train, class_train)\n",
    "output = forest.predict(feature_test)\n",
    "score = forest.score(feature_test, class_test)\n",
    "\n",
    "bayes_output(output, score, class_test)"
   ]
  },
  {
   "cell_type": "markdown",
   "metadata": {},
   "source": [
    "## PCA, MEANS, No NaN FEATURES, NORMALIZED, 3 COMPONENTS"
   ]
  },
  {
   "cell_type": "code",
   "execution_count": 35,
   "metadata": {
    "collapsed": false
   },
   "outputs": [
    {
     "name": "stdout",
     "output_type": "stream",
     "text": [
      "sum:  6946\n",
      "true positives:  6\n",
      "true negatives:  6618\n",
      "false positives:  3\n",
      "false negatives:  319\n",
      "ratio pos/neg:  0.009404388714733543\n",
      "test ratio pos/neg:  0.0490862407491\n",
      "0.953642384106\n"
     ]
    }
   ],
   "source": [
    "data = pd.DataFrame.from_csv('../DataFiles/train.csv')\n",
    "data = data.fillna(data.mean())\n",
    "cols = [col for col in data.columns if col != 'class'] \n",
    "features = data[cols]\n",
    "bankrupt = data['class']\n",
    "n_components = [20]\n",
    "feature_train, feature_test, class_train, class_test = train_test_split(\n",
    "    features, bankrupt, test_size=0.2, random_state=1)\n",
    "\n",
    "feature_train = scale_features(np.asarray(feature_train))\n",
    "feature_test = scale_features(np.asarray(feature_test))\n",
    "\n",
    "pca = QuantumBlackPCA(feature_train, n_components=n_components, columns=cols)\n",
    "\n",
    "feature_train_pca = np.zeros((len(feature_train), n_components[0]))\n",
    "feature_test_pca = np.zeros((len(feature_test), n_components[0]))\n",
    "for j, component in enumerate(pca.pca[n_components[0]].components_):\n",
    "    for i in range(len(feature_train_pca)):\n",
    "        feature_train_pca[i][j] = np.sum(component * feature_train[i])\n",
    "    for i in range(len(feature_test_pca)):\n",
    "        feature_test_pca[i][j] = np.sum(component * feature_test[i])\n",
    "\n",
    "forest = RandomForestClassifier(n_estimators=100, n_jobs=6)\n",
    "forest = forest.fit(feature_train_pca, class_train)\n",
    "output = forest.predict(feature_test_pca)\n",
    "score = forest.score(feature_test_pca, class_test)\n",
    "\n",
    "errors = np.where(class_test!=output,class_test,output)\n",
    "true_positives  = np.where(np.logical_and(class_test,output))\n",
    "true_negatives  = np.where(np.logical_not(np.logical_or(class_test,output)))\n",
    "false_positives = np.where(class_test<output)\n",
    "false_negatives = np.where(class_test>output)\n",
    "\n",
    "n_true_positives = len(true_positives[0])\n",
    "n_true_negatives = len(true_negatives[0])\n",
    "n_false_negatives = len(false_negatives[0])\n",
    "n_false_positives = len(false_positives[0])\n",
    "\n",
    "print('sum: ', n_true_positives+n_false_positives+n_false_negatives+n_true_negatives)\n",
    "print('true positives: ' , n_true_positives)\n",
    "print('true negatives: ' , n_true_negatives)\n",
    "print('false positives: ' , n_false_positives)\n",
    "print('false negatives: ' , n_false_negatives)\n",
    "print('ratio pos/neg: ', n_false_positives/n_false_negatives)\n",
    "print('test ratio pos/neg: ', np.sum(class_test)/(len(class_test)-np.sum(class_test)))\n",
    "\n",
    "print(score)"
   ]
  },
  {
   "cell_type": "markdown",
   "metadata": {
    "collapsed": true
   },
   "source": [
    "## NaNs, PCA, 20 components"
   ]
  },
  {
   "cell_type": "code",
   "execution_count": 116,
   "metadata": {
    "collapsed": false
   },
   "outputs": [
    {
     "name": "stderr",
     "output_type": "stream",
     "text": [
      "/home/matthew/.local/conda/lib/python3.5/site-packages/sklearn/utils/validation.py:429: DataConversionWarning: Data with input dtype object was converted to float64 by StandardScaler.\n",
      "  warnings.warn(msg, _DataConversionWarning)\n"
     ]
    }
   ],
   "source": [
    "data = pd.DataFrame.from_csv('../DataFiles/train_withNaNinfo.csv')\n",
    "data = data.fillna(data.median())\n",
    "cols = [col for col in data.columns if col != 'class'] \n",
    "features = data[cols]\n",
    "bankrupt = data['class']\n",
    "n_components = [10]\n",
    "feature_train, feature_test, class_train, class_test = train_test_split(\n",
    "    features, bankrupt, test_size=0.01, random_state=1)\n",
    "\n",
    "feature_train = scale_features(np.asarray(feature_train))\n",
    "feature_test = scale_features(np.asarray(feature_test))\n",
    "\n",
    "pca = QuantumBlackPCA(feature_train, n_components=n_components, columns=cols)\n",
    "\n",
    "feature_train_pca = np.zeros((len(feature_train), n_components[0]))\n",
    "feature_test_pca = np.zeros((len(feature_test), n_components[0]))\n",
    "\n",
    "for j, component in enumerate(pca.pca[n_components[0]].components_):\n",
    "    for i in range(len(feature_train_pca)):\n",
    "        feature_train_pca[i][j] = np.sum(component * feature_train[i])\n",
    "    for i in range(len(feature_test_pca)):\n",
    "        feature_test_pca[i][j] = np.sum(component * feature_test[i])\n",
    "        \n"
   ]
  },
  {
   "cell_type": "code",
   "execution_count": 117,
   "metadata": {
    "collapsed": false
   },
   "outputs": [],
   "source": [
    "with open('../DataFiles/train_PCA_10.csv', 'w') as f:\n",
    "    for ind, row in enumerate(feature_train_pca):\n",
    "        f.write(','.join([str(feature) for feature in row])+'\\n')"
   ]
  },
  {
   "cell_type": "code",
   "execution_count": 62,
   "metadata": {
    "collapsed": false
   },
   "outputs": [
    {
     "name": "stdout",
     "output_type": "stream",
     "text": [
      "sum:  6946\n",
      "true positives:  101\n",
      "true negatives:  6533\n",
      "false positives:  88\n",
      "false negatives:  224\n",
      "ratio pos/neg:  0.39285714285714285\n",
      "test ratio pos/neg:  0.0490862407491\n",
      "bs score 0.955082061618\n"
     ]
    }
   ],
   "source": [
    "forest = RandomForestClassifier(n_estimators=100, n_jobs=6, class_weight={0: 0.9, 1: 0.1})\n",
    "forest = forest.fit(feature_train_pca, class_train)\n",
    "output = forest.predict(feature_test_pca)\n",
    "score = forest.score(feature_test_pca, class_test)\n",
    "\n",
    "bayes_output(output, score, class_test)"
   ]
  },
  {
   "cell_type": "code",
   "execution_count": 74,
   "metadata": {
    "collapsed": false
   },
   "outputs": [
    {
     "name": "stdout",
     "output_type": "stream",
     "text": [
      "sum:  6946\n",
      "true positives:  98\n",
      "true negatives:  6554\n",
      "false positives:  67\n",
      "false negatives:  227\n",
      "ratio pos/neg:  0.29515418502202645\n",
      "test ratio pos/neg:  0.0490862407491\n",
      "bs score 0.95767348114\n"
     ]
    }
   ],
   "source": [
    "forest = RandomForestClassifier(n_estimators=100, n_jobs=6, class_weight={0:0.8, 1:0.2}, random_state=1)\n",
    "forest = forest.fit(feature_train_pca, class_train)\n",
    "output = forest.predict(feature_test_pca)\n",
    "score = forest.score(feature_test_pca, class_test)\n",
    "\n",
    "bayes_output(output, score, class_test)"
   ]
  },
  {
   "cell_type": "code",
   "execution_count": null,
   "metadata": {
    "collapsed": true
   },
   "outputs": [],
   "source": []
  }
 ],
 "metadata": {
  "anaconda-cloud": {},
  "kernelspec": {
   "display_name": "Python [conda root]",
   "language": "python",
   "name": "conda-root-py"
  },
  "language_info": {
   "codemirror_mode": {
    "name": "ipython",
    "version": 3
   },
   "file_extension": ".py",
   "mimetype": "text/x-python",
   "name": "python",
   "nbconvert_exporter": "python",
   "pygments_lexer": "ipython3",
   "version": "3.5.2"
  },
  "widgets": {
   "state": {},
   "version": "1.1.2"
  }
 },
 "nbformat": 4,
 "nbformat_minor": 1
}
